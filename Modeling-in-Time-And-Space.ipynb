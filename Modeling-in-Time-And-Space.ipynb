{
 "cells": [
  {
   "cell_type": "markdown",
   "metadata": {},
   "source": [
    "# **SysML v2 Language Demonstration<br/>Modeling in Time and Space**\n",
    "# *INCOSE International Symposium</br>July 2023*\n",
    "\n",
    "# Ed Seidewitz\n",
    "© Copyright 2023 Model Driven Solutions, Inc."
   ]
  },
  {
   "cell_type": "markdown",
   "metadata": {},
   "source": [
    "# Vehicle Definitions"
   ]
  },
  {
   "cell_type": "code",
   "execution_count": 1,
   "metadata": {},
   "outputs": [
    {
     "data": {
      "text/plain": [
       "Package VehicleDefinitions (ed248a6a-971a-406b-8bcd-656ebbfbdd7c)\n"
      ]
     },
     "execution_count": 1,
     "metadata": {},
     "output_type": "execute_result"
    }
   ],
   "source": [
    "package VehicleDefinitions {\n",
    "    import SI::*;\n",
    "    import Time::*;\n",
    "    \n",
    "    action def SenseVehicleTemperature {\n",
    "        out temp :> ISQ::temperature;\n",
    "    }\n",
    "    state def VehicleHealthStates;\n",
    "    \n",
    "    part def Vehicle;   \n",
    "    part def VehicleController;\n",
    "    \n",
    "    item def OverTempSignal {\n",
    "        attribute temp :> ISQ::temperature;\n",
    "    }\n",
    "    item def ReturnToNormalSignal;\n",
    "\n",
    "}"
   ]
  },
  {
   "cell_type": "markdown",
   "metadata": {},
   "source": [
    "# Vehicle Configuration"
   ]
  },
  {
   "cell_type": "code",
   "execution_count": 3,
   "metadata": {},
   "outputs": [
    {
     "data": {
      "text/plain": [
       "Package VehicleConfiguration (be1bff1d-5947-480d-9035-2b32003782c3)\n"
      ]
     },
     "execution_count": 3,
     "metadata": {},
     "output_type": "execute_result"
    }
   ],
   "source": [
    "package VehicleConfiguration {\n",
    "    import VehicleDefinitions::*;\n",
    "    \n",
    "    part vehicle : Vehicle {\n",
    "        attribute maxTemp :> ISQ::temperature;\n",
    "        attribute maintenanceTime :> Time::timeInstant;\n",
    "        attribute maintenanceInterval :> ISQ::duration default 90 * 24 [h];\n",
    "        attribute maintenanceDuration :> ISQ::duration default 48 [h];\n",
    "        \n",
    "        part controller : VehicleController;\n",
    "        \n",
    "        state healthStates : VehicleHealthStates {\n",
    "            entry; then normal;\n",
    "            do action senseTemperature : SenseVehicleTemperature;\n",
    "\n",
    "            state normal;\n",
    "\n",
    "            transition normal_maintenance\n",
    "                first normal\n",
    "                accept at maintenanceTime\n",
    "                then maintenance;\n",
    "            \n",
    "            state maintenance {\n",
    "                assert constraint { TimeOf(maintenance) > maintenanceTime }\n",
    "                assert constraint { TimeOf(maintenance) - TimeOf(normal.done) < 2 [s] }\n",
    "                do assign maintenanceTime := maintenanceTime + maintenanceInterval;\n",
    "            }\n",
    "            \n",
    "            constraint maintenanceDurationConstraint { \n",
    "                DurationOf(maintenance) <= maintenanceDuration \n",
    "            }\n",
    "\n",
    "            transition normal_degraded\n",
    "                first normal\n",
    "                accept when senseTemperature.temp > maxTemp\n",
    "                do action sendSignal send OverTempSignal(senseTemperature.temp) to controller\n",
    "                then degraded;\n",
    "\n",
    "            state degraded;\n",
    "            \n",
    "            transition maintenance_normal\n",
    "                first maintenance\n",
    "                accept ReturnToNormalSignal\n",
    "                then normal;\n",
    "\n",
    "            transition degraded_normal\n",
    "                first degraded\n",
    "                accept ReturnToNormalSignal\n",
    "                then normal;\n",
    "        }\n",
    "    }\n",
    "}"
   ]
  },
  {
   "cell_type": "markdown",
   "metadata": {},
   "source": [
    "# Vehicle Scenario"
   ]
  },
  {
   "cell_type": "code",
   "execution_count": 4,
   "metadata": {},
   "outputs": [
    {
     "data": {
      "text/plain": [
       "Package VehicleScenario (a239090f-8109-4c78-8429-3d004125fbcf)\n"
      ]
     },
     "execution_count": 4,
     "metadata": {},
     "output_type": "execute_result"
    }
   ],
   "source": [
    "package VehicleScenario {\n",
    "    import VehicleConfiguration::*;\n",
    "    \n",
    "    individual part def Vehicle1 :> Vehicle;\n",
    "    individual part vehicle1 : Vehicle1 :> vehicle {\n",
    "        attribute startTime = Iso8601DateTime(\"2022-03-22T09:00:00-04:00\");        \n",
    "        attribute :>> maxTemp = 90 ['°C'];\n",
    "        \n",
    "        timeslice vehicleMaintenance[1] {\n",
    "            assert constraint { TimeOf(vehicleMaintenance.start) == startTime }\n",
    "            \n",
    "            attribute :>> maintenanceTime := startTime;\n",
    "            \n",
    "            state :>> healthStates : VehicleHealthStates[1] {\n",
    "                state :>> normal[1] {\n",
    "                    assert constraint { TimeOf(normal.done) == startTime }\n",
    "                }\n",
    "                then state :>> maintenance[1] {\n",
    "                    assert constraint { TimeOf(maintenance.start) == startTime + 2 [s] }\n",
    "                    assert constraint { TimeOf(maintenance.done) == startTime + 24 [h] }\n",
    "                    assert maintenanceDurationConstraint;\n",
    "                }\n",
    "            }\n",
    "        }\n",
    "        \n",
    "        then timeslice vehicleDegraded[1] {           \n",
    "            state :>> healthStates : VehicleHealthStates[1] {\n",
    "                do action :>> senseTemperature[1] {\n",
    "                    out :>> temp = maxTemp + 10 ['°C'];\n",
    "                }\n",
    "                \n",
    "                state :>> normal[1];\n",
    "                then perform normal_degraded.sendSignal;\n",
    "                then state :>> degraded[1];\n",
    "            }\n",
    "        }\n",
    "    }     \n",
    "}"
   ]
  },
  {
   "cell_type": "markdown",
   "metadata": {},
   "source": [
    "# Vehicle Geometry"
   ]
  },
  {
   "cell_type": "code",
   "execution_count": 5,
   "metadata": {},
   "outputs": [
    {
     "data": {
      "text/plain": [
       "Package VehicleGeometry (d6dfe2bf-c1c1-472a-9a73-6a1ba4a10893)\n"
      ]
     },
     "execution_count": 5,
     "metadata": {},
     "output_type": "execute_result"
    }
   ],
   "source": [
    "package VehicleGeometry {\n",
    "    import VehicleDefinitions::*;\n",
    "    import ShapeItems::*;\n",
    "    import SpatialItems::*;\n",
    "    import MeasurementReferences::CoordinateFramePlacement;\n",
    "    \n",
    "    part def Wheel :> SpatialItem {\n",
    "        item :>> shape : Cylinder {\n",
    "            :>> radius = 70 [cm];\n",
    "            :>> height = 22 [cm];\n",
    "        }        \n",
    "    }\n",
    "    \n",
    "    part def Chassis :> SpatialItem {\n",
    "        item :> envelopingShapes : Box[1] {\n",
    "            :>> length = 480 [cm];\n",
    "            :>> width = 184 [cm];\n",
    "            :>> height = 135 [cm];\n",
    "        }\n",
    "    }\n",
    "    \n",
    "    part vehicle : Vehicle, SpatialItem {        \n",
    "        attribute vcf :>> coordinateFrame {\n",
    "            :>> mRefs = (cm, cm, cm);\n",
    "        }\n",
    "        \n",
    "        part chassis : Chassis[1] :> componentItems {\n",
    "            attribute :>> coordinateFrame : CoordinateFramePlacement {\n",
    "                attribute :>> origin = (0, 0, 0);\n",
    "            }\n",
    "        }\n",
    "        \n",
    "        attribute wheelPosition1 :> ISQ::cartesianPosition3dVector = (50, 0, 0) [vcf];\n",
    "        \n",
    "        part leftFrontWheel : Wheel[1] :> componentItems {\n",
    "            attribute :>> coordinateFrame : CoordinateFramePlacement {\n",
    "                attribute :>> origin = wheelPosition1;\n",
    "                attribute :>> basisDirections; // = ...\n",
    "            }\n",
    "        }\n",
    "        \n",
    "        part rightFrontWheel : Wheel[1] :> componentItems {\n",
    "            attribute :>> coordinateFrame : CoordinateFramePlacement {\n",
    "                attribute :>> origin = wheelPosition1 + (0, 184, 0) [vcf];\n",
    "                attribute :>> basisDirections; // = ...\n",
    "           }\n",
    "        }\n",
    "        \n",
    "        part leftRearWheel : Wheel[1] :> componentItems {\n",
    "            attribute :>> coordinateFrame : CoordinateFramePlacement {\n",
    "                attribute :>> origin = wheelPosition1 + (300, 0, 0) [vcf];\n",
    "                attribute :>> basisDirections; // = ...\n",
    "           }\n",
    "        }\n",
    "        \n",
    "        part rightRearWheel : Wheel[1] :> componentItems {\n",
    "            attribute :>> coordinateFrame : CoordinateFramePlacement {\n",
    "                attribute :>> origin = wheelPosition1 + (300, 184, 0) [vcf];\n",
    "                attribute :>> basisDirections; // = ...\n",
    "           }\n",
    "        }        \n",
    "    }\n",
    "}"
   ]
  },
  {
   "cell_type": "markdown",
   "metadata": {},
   "source": [
    "# Vehicle Motion"
   ]
  },
  {
   "cell_type": "code",
   "execution_count": 6,
   "metadata": {},
   "outputs": [
    {
     "data": {
      "text/plain": [
       "Package VehicleMotion (43054bf2-eac0-4ef1-8fe4-957194260b27)\n"
      ]
     },
     "execution_count": 6,
     "metadata": {},
     "output_type": "execute_result"
    }
   ],
   "source": [
    "package VehicleMotion {\n",
    "    import VehicleDefinitions::*;\n",
    "    import SpatialItems::*;\n",
    "    \n",
    "    part referenceSpace : SpatialItem {\n",
    "        \n",
    "        part vehicle : Vehicle, SpatialItem {\n",
    "            attribute mass :> ISQ::mass;\n",
    "            attribute acceleration :> ISQ::cartesianAcceleration3dVector;\n",
    "        }\n",
    "        \n",
    "        attribute startTime :> Time::timeInstant;\n",
    "        derived attribute elapseTime :> ISQ::duration = localClock.currentTime - startTime;\n",
    "        \n",
    "        assert constraint constantAccelerationConstraint {\n",
    "            CurrentPositionOf(vehicle.originPoint, referenceSpace) ==\n",
    "                mass * acceleration * elapseTime ^ 2 / 2.0\n",
    "        }\n",
    "        \n",
    "    }\n",
    "}"
   ]
  },
  {
   "cell_type": "code",
   "execution_count": null,
   "metadata": {},
   "outputs": [],
   "source": []
  },
  {
   "cell_type": "code",
   "execution_count": null,
   "metadata": {},
   "outputs": [],
   "source": []
  }
 ],
 "metadata": {
  "kernelspec": {
   "display_name": "SysML",
   "language": "sysml",
   "name": "sysml"
  },
  "language_info": {
   "codemirror_mode": "sysml",
   "file_extension": ".sysml",
   "mimetype": "text/x-sysml",
   "name": "SysML",
   "pygments_lexer": "java",
   "version": "1.0.0"
  }
 },
 "nbformat": 4,
 "nbformat_minor": 5
}
